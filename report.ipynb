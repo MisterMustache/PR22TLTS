{
 "cells": [
  {
   "cell_type": "markdown",
   "source": [
    "# Električna neodvisnost, sposobnost in dejstva Slovenije\n",
    "### Končno poročilo projektne naloge pri predmetu Podatkovno rudarjenje\n",
    "\n",
    "> Avtorja:\n",
    "> **Tilen Aleksander LEVAK** *(63210187)*\n",
    "> **Tadej SKRBINEK** *(63210298)*\n",
    "\n",
    "> Predavatelj: **izr. prof. dr. Tomaž CURK**\n",
    "> Asistent: **Rok GOMIŠČEK**"
   ],
   "metadata": {
    "collapsed": false
   }
  },
  {
   "cell_type": "markdown",
   "source": [
    "## Opis problema\n",
    "\n",
    "Glavna stvar, ki naju zanima je: kakšen je bil razvoj električne industrije v Sloveniji in v katero pot se nagibajo trendi proizvodnje, cen, porabe, razvoja ipd. Iz vidika navadnega prebivalca, je Slovenija zmeraj bila zelo \"električno premožna\" država. Od Jugoslavije, ko so se je zgradila Nuklearna elektrarna Krško in v zgodnjih časih Republike Slovenije z razširitvijo termo- in hidroelektrarn. V bližnji preteklosti pa je tudi naraslo število sončnih elektrarn – gospodarskih in negospodarskih, ter se zgradila vetrna elektrarna Dolenja vas. Energetskih načrtov za proizvodnjo elektrike v Sloveniji je še zmeraj veliko.\n",
    "\n",
    "### Cilji\n",
    "\n",
    "Glavno vprašanje sva razdelila na nekaj podvprašanj, na katera bi rada konkretno odgovorila:\n",
    "- Kakšno je razmerje med proizvodnjo in porabo električne energije v Sloveniji?\n",
    "- Kako močno vpliva poraba elektrike na njeno ceno?\n",
    "- Ali imajo zasebne mini-elektrarne vpliv na ceno elektrike?\n",
    "- Kakšni so premiki električne industrije v Sloveniji v zeleno smer?"
   ],
   "metadata": {
    "collapsed": false
   }
  },
  {
   "cell_type": "markdown",
   "source": [
    "## Podatki\n",
    "\n",
    "Podatke, ki jih uporabljava je zbral in objavil Statistični urad Republike Slovenije. Objavljeni so tabelarično v formatu PX. Podatki obsegajo razne vire proizvodnje elektrike, cen, porab, moč elektrarn in drugih podatkov.\n",
    "\n",
    "Ker so podatki originalno v obliki PX datoteke, ki je v namenskih programih zelo pregledna vendar pri procesiranju dokaj neuporabna najprej le te pretvoriva v CSV datoteke, kjer se ohranijo le določeni atributi, ki so zanimivi za določeno raziskavo."
   ],
   "metadata": {
    "collapsed": false
   }
  },
  {
   "cell_type": "markdown",
   "source": [
    "## Analize in rezultati\n",
    "\n",
    "Preden se lahko lotiva raziskave in analize, je izjemno pomembno, da pridobiva temeljno znanje o tej domeni ter informacije, povezane z njo. Obstaja več razlogov, zakaj je to pomembno.\n",
    "\n",
    "Prvič, poznavanje tematske domene nam omogoča razumevanje konteksta, v katerem se nahajajo podatki. Razumevanje električne neodvisnosti, sposobnosti in dejstev Slovenije nam pomaga interpretirati podatke na pravi način ter razumeti njihov pomen in implikacije. Znanje o električni proizvodnji, porabi, virih energije ter energetski stabilnosti države nam omogoča postaviti prava vprašanja, opredeliti ključne spremenljivke in raziskati pomembne povezave med njimi.\n",
    "\n",
    "Drugič, predhodno raziskovanje tematske domene nam omogoča prepoznati morebitne vrzeli v obstoječem znanju in identificirati področja, ki potrebujejo dodatno analizo. S tem lahko izboljšamo kakovost naše raziskave ter prispevamo k celostnemu razumevanju problema.\n",
    "\n",
    "Poleg tega nam poznavanje tematske domene omogoča tudi izbiro ustreznih metod in orodij za analizo podatkov. Glede na specifično področje električne neodvisnosti Slovenije bomo lahko izbrali primerne statistične metode, modeliranje ali uporabo strojnega učenja za raziskovanje podatkov.\n",
    "\n",
    "Za lažjo predstavo vseh podatkov sva si le te vizualizirala z grafi.\n",
    "\n",
    "Ker le govorimo o električnih dejstvih, kar se tiče Slovenije, je uporabno najprej videti tudi osnovna dejstva kot so poraba, proizvodnja ipd."
   ],
   "metadata": {
    "collapsed": false
   }
  },
  {
   "cell_type": "markdown",
   "source": [
    "#### 1. Poraba električne energije nasploh.\n",
    "\n",
    "![elektricna_poraba_skupaj.png](porocilo_slike/elektricna_poraba_skupaj.png)\n",
    "\n",
    "Ker pa to ne pove ravno veliko je možno to malce razdeliti na več kategorij:\n",
    "\n",
    "![elektricna_poraba_po_dejavnosti.png](porocilo_slike/elektricna_poraba_po_dejavnosti.png)\n",
    "\n",
    "Iz 1. grafa se zelo dobro vidijo posledice finančne krize 2009, kjer je poraba električne energije drastično nižja od trenda.\n",
    "\n",
    "Iz 2. grafa se vidi več stvari:\n",
    "\n",
    "Gradbeniške dejavnosti so zmanjševale porabo vse do 2014 ter nato zelo močno povišale porabo vse do pandemije koronavirusa, kjer se je velik del globalne ekonomije upočasnil ali celo ustavil in s tem tudi poraba električne energije. 2021 pa je spet tako narasla, da se zlahka lahko predvidi to, da so poizkušali nadoknaditi neopravljeno delo preteklega leta.\n",
    "\n",
    "Za razliko od gradbeništva pa rudarstvo in predelovalne dejavnosti sledijo trendu zmernega naraščanja.\n",
    "\n",
    "---\n",
    "\n",
    "#### 2. Proizvodnja električne energije\n",
    "\n",
    "![proizvodnja_elektricne_energije_po_tipu_elektrarne.png](porocilo_slike/proizvodnja_elektricne_energije_po_tipu_elektrarne.png)\n",
    "\n",
    "Iz grafa se vidi, da sta bila v zgodnjih 2000ih glavna proizvajalca NEK in termo elektrarne, medtem ko so blizu sledile hidroelektrarne, ki so se uspešno približale termoelektrarnam in jih navsezadnje le prehitele medtem, ko so le te začele zgubljati delež.\n",
    "\n",
    "NEK ima zelo konstanten in redko deviiran ritem.\n",
    "\n",
    "---\n",
    "\n",
    "#### 3. Cena električne energije za gospodnijske/negospodinjske odjemalce:\n",
    "\n",
    "![cena_elektrike_ne-gospodinjske_skupaj.png](porocilo_slike/cena_elektrike_ne-gospodinjske_skupaj.png)\n",
    "\n",
    "Opazimo lahko, da je bila cena električne energije za gospodinjske odjemalce v povprečju konsistentno dražja od negospodinjskih.\n",
    "\n",
    "Nato sledijo zanimive opazke:\n",
    "- ob začetku razglasitve koronavirusa se je cena za gospodinjske uporabnike znižala vendar se je kmalu v okolici šestih mesecev ponovno zvišala nazaj na skoraj prejšnjo (a malce višjo).\n",
    "- Ob eskalaciji konflikta med Rusijo in Ukrajino se je cena začela rahlo višati in ob samem začetku konflikta strmo izbruhnila. Za negospodinjske uporabnike je ta vzpon pomenil tudi do 200% zvišanje cene, ki je povzročilo, energetsko krizo ne samo v Sloveniji temveč celotni Evropski uniji.\n",
    "\n",
    "#### 4. Cena električne energije gospodinjskih odjemalcev po porabi\n",
    "\n",
    "![cena_elektrike_gospodinjskih_odjemalcev_po_doloceni_porabi.png](porocilo_slike/cena_elektrike_gospodinjskih_odjemalcev_po_doloceni_porabi.png)\n",
    "\n",
    "Na hiter pogled nima graf prav ogromno koristnih informacij saj za vse odjemalce veljajo podobni vzponi in padci z malo variacije. Vendar se razločno vidi, da cena za nižje porabnike niha **silno močneje** kot za višje porabnike.\n",
    "\n",
    "---\n"
   ],
   "metadata": {
    "collapsed": false
   }
  },
  {
   "cell_type": "markdown",
   "source": [
    "## Cilji in vprašanja\n",
    "\n",
    "Izbira zadostnih in razumnih ciljev ter vprašanj, na katera želiva odgovoriti, je izjemno pomembna in upravičena iz več razlogov.\n",
    "\n",
    "Jasno opredeljeni cilji nam pomagajo se osredotočiti na bistvo problema in določiti obseg neke raziskave. Z jasnimi cilji postanejo naloge in vprašanja usmerjena ter zagotavljajo smernice za učinkovito zbiranje, analizo in interpretacijo podatkov. Dobro postavljena vprašanja nam prav tako omogočajo usmerjanje naše raziskave in osredotočanje na ključne vidike problema. Z natančno oblikovanimi vprašanji lahko raziskujemo specifične elemente električne neodvisnosti Slovenije. Poleg tega nam cilji in vprašanja pomagajo doseči konkreten namen neke raziskave. Lahko nas usmerjajo pri iskanju rešitev za obstoječe izzive, poglobljeno razumevanje določenih vidikov ali identifikacijo možnosti za izboljšanje.\n",
    "\n",
    "Pri projektu sva si zastavila 4 vprašanja na katera bi rada odgovorila."
   ],
   "metadata": {
    "collapsed": false
   }
  },
  {
   "cell_type": "markdown",
   "source": [
    "### Kakšno je razmerje med proizvodnjo in porabo električne energije v Sloveniji?\n",
    "\n",
    "Odgovor na to vprašanje nam omogoča celovit vpogled v stanje in razmerje med proizvodnjo in porabo električne energije v Sloveniji. S tem se lahko sprejemajo bolj informirane odločitve in oblikujejo ukrepi za izboljšanje energetske učinkovitosti (če ugotovimo, da je poraba previsoka v primerjavi s proizvodnjo, lahko prepoznamo potrebo po povečanju zmogljivosti proizvodnje ali izboljšanju energetske učinkovitosti za zmanjšanje porabe), povečanje proizvodnje obnovljivih virov energije ter doseganje večje električne neodvisnosti države (ali je proizvodnja zadostna za pokrivanje potreb prebivalstva in gospodarstva ter ali obstajajo morebitne vrzeli med proizvodnjo in porabo).\n",
    "\n",
    "![image](porocilo_slike/razmerje_med_proizvodnjo_po_tipu_elektrarne_in_porabo_elektrike.png)\n",
    "\n",
    "![image](porocilo_slike/razmerje_med_skupno_proizvodnjo_in_porabo_elektrike.png)\n",
    "\n",
    "Dejstvo je, da je razmerje med proizvodnjo in porabo električne energije v Sloveniji znatno večje kot zahtevana količina.\n",
    "\n",
    "To pomeni, da Slovenija presega svoje potrebe po električni energiji in ima presežek proizvodnje. Ta presežek je izjemno koristen, saj omogoča energetsko neodvisnost, zmanjšuje potrebo po uvozu električne energije ter ustvarja priložnosti za izvoz energije.\n",
    "\n",
    "Poleg tega ima to pozitiven vpliv na gospodarstvo, saj se ustvarjajo delovna mesta v sektorjih proizvodnje, distribucije in izvoza električne energije. Prispeva tudi k razvoju trajnostnih energetskih tehnologij ter spodbuja inovacije na področju obnovljivih virov energije.\n",
    "\n",
    "Iz prvega grafa se prav tako da razbrati, da se razmerje med porabo in proizvodnjo za določen tip elektrarne manjša vendar še vedno lahko le en močan tip elektrarne (kot je jedrska in hidro) skoraj zadovolji potrebe v Sloveniji.\n",
    "\n",
    "Prav tako lahko vidimo nekaj osamelcev in trendov povezanih z socioekonomskim stanjem kot so:\n",
    "- Leto 2008, kjer je globalna finančna kriza povzročila depresijo trga in s tem tudi na porabo in proizvodnjo elektrike.\n",
    "- Med letoma 2010 in 2012 je potekala Evropska dolžinska kriza, ki je povzročila sproten vpad proizvodnje električne energije.\n",
    "- Leta 2014 je zaradi konflikta med Ukrajino in Rusijo bila motena oskrba zemeljskega plina, ki je posledično vplivala na njegovo ceno kar je povzročilo, da smo se je morali manj posluževati in deficit odpraviti s hidroelektrarnami."
   ],
   "metadata": {
    "collapsed": false
   }
  },
  {
   "cell_type": "markdown",
   "source": [
    "### Kako močno vpliva poraba elektrike na njeno ceno?\n",
    "\n",
    "Razumevanje vprašanja glede vpliva porabe elektrike na njeno ceno nam omogoča boljše upravljanje naših energetskih izdatkov (če ugotovimo, da je poraba električne energije pomemben dejavnik, ki vpliva na ceno, se lahko osredotočimo na ukrepe za zmanjšanje porabe ter tako optimiziramo stroške električne energije), boljše razumevanje mehanizmov oblikovanja cen (lahko ugotovimo, ali ceno določajo predvsem stroški proizvodnje, distribucije ali pa je pomembno tudi povpraševanje in poraba elektrike. S tem znanjem lahko sprejemamo bolj informirane odločitve glede energetskega načrtovanja in prilagajanja porabe električne energije) in sprejemanje bolj informiranih odločitev v zvezi z našo porabo električne energije (če je poraba ključni dejavnik, ki vpliva na ceno, se lahko zavedamo, da bo večje povpraševanje lahko povzročilo dvig cen, medtem ko zmanjšanje porabe lahko vodi v nižje cene električne energije). Vse to nam omogoča optimizacijo stroškov in bolj trajnostno uporabo električne energije.\n",
    "\n",
    "Postopek reševanja tega vprašanja je sledeč:\n",
    "\n",
    "#### 1. Uvoz podatkov\n",
    "Sami podatki so bili preprosto shranjeni v formatu CSV, kjer so bili nato prebrani s pomočjo knjižnice Pandas, ki podatke strukturirano oblikuje v `dataframe` in omogoča mnoge operacije za manipulacijo le teh. Tu sta bili v glavnem uporabljeni dve datoteki:\n",
    "- `cena_elektrike.csv`\n",
    "- `poraba_skupaj_brez-transformacij.csv`\n",
    "\n",
    "#### 2. Predprocesiranje\n",
    "Ko so sami podatki naloženi v `dataframe` še ne pomeni, da so v pravilni obliki. Cilj tega koraka je le te pripraviti do tega, da bodo primerno obdelani in oblikovani, da bodo pripravljeni za nadaljnje analize.\n",
    "\n",
    "Na začetku sta ustvarjena dva `dataframe`-a, en za cene in drugi za porabe. Obema se prvotno izvede pretvorba podatkovnih tipov. Kot je sedaj, so vrednosti napačnega tipa, zato jih je potrebno pravilno pretvoriti v numerični tip. Ker na srečo tu ni prišlo do manjkajočih vrednosti in kakršnihkoli neveljavnih vrednosti, tu ni bilo potrebnega rokovanja s tovrstnimi napakami. To se seveda izvede na obeh strukturah, kjer je pri porabah potrebno dodatno paziti na pretvorbo ustreznih enot (v datoteki so vrednosti predstavljene v $TJ$, vendar zaradi konsistentnosti skozi projekt, sma uporabila $GWh$).\n",
    "\n",
    "Ker so pri cenah podatki vneseni po četrtletjih, pri porabah pa v letih, je potrebno te stolpce, ki predstavljajo četrtletja, skupaj združiti v eno leto. Torej skupine po štiri stolpce, ki predstavljajo isto leto, skupaj povpreči in ustvari nov stolpec, ki predstavlja skupno leto. Kar se tiče vrstic, se pri cenah obdržijo le tiste, ki vsebujejo povprečne vrednosti gospodinjskih in negospodinjskih odjemalcev, ne pa tudi njihovih dodatnih kategorij.\n",
    "\n",
    "Do problema pride tudi pri samem časovnem obdobju, ki jih obsegajo podatki. Pomembno je, da so podatki obsegajo enako časovno obdobje, torej vsebujejo vnose le za tista leta, ki so skupni obema `dataframe`-oma. V najinem primeru je to od 2012 do vključno 2021. Čeprav na ta način podatki izven tega obdobje postanejo neuporabni, je to edini način, da se izvedejo ustrezne analize.\n",
    "\n",
    "V tej točki stolpci in vrstice niso ustrezno predstavljeni, zato se le te transponirajo in ponovno indeksirajo. Po tem postopku je `dataframe` ustrezno oblikovan.\n",
    "\n",
    "`dataframe` `cene_df` vsebuje stolpce: `leto`, `cena_gosp`, `cena_negosp` (vsaka vrstica predstavlja povprečne cene za gospodinjske in negospodinjske odjemalce za določeno leto)\n",
    "`dataframe` `porabe_df` vsebuje stolpce: `leto`, `poraba` (vsaka vrstica predstavlja porabo za vsako leto)\n",
    "\n",
    "Da sva lahko posebej opazovala vpliv porabe na ceno, glede na tip odjemalca, je bilo potrebno ta dva `dataframe`-a še naknadno razdeliti in združiti. Tisti, ki predstavlja cene se je razdelil na dva nova `dataframe`-a, kjer vsak od njiju vsebuje cene za svojo skupino odjemalcev za določeno leto. Vsak od njiju se nato združi z `dataframe`-om porab, in sicer po letih. Na tak način ostane le en stolpec za leta, kar pomeni, da se cene pravilno dodajo k pripadajoči porabi, ki predstavlja enako leto.\n",
    "\n",
    "Na koncu ostaneta dva `dataframe`-a, ki vsebujeta stolpce: `leto`, `poraba`, `cena`. Vsak od njiju pa se nanaša na svojo skupino odjemalcev.\n",
    "\n",
    "Vredno je omeniti tudi obdelavo osamelcev. Prvotno so bile analize opravljene brez dodatnega predprocesiranja osamelcev, ter nato primerjali rezultate. Seveda kot pričakovano, so podatki brez osamelcev vrnili nekako boljše rezultate. Samo prepoznavo osamelcev pa sva opravila s pomočjo ustreznih vizualizacij, kot so razpršen graf, histogram itd.\n",
    "\n",
    "#### 3. Analiza\n",
    "Tu je bil prvi instinkt izračunati korelacijo in pripadajočo p-vrednost. Ti dve statistični merili nama bosta pomagali razumeti odnos med porabo in ceno, ter kako močno in v kateri smeri sta spremenljivki povezani.\n",
    "\n",
    "Rezultati pri gospodinjskih odjemalcih:\n",
    "- korelacija: -0,12\n",
    "- p-vrednost: 0,79\n",
    "\n",
    "Na podlagi teh podatkov ne moramo ničesar zagotovo dokazati, vendar je možno sklepati, da podatki nimajo močne povezave med seboj, na kar nakazuje korelacija.\n",
    "\n",
    "Rezultati pri negospodinjskih odjemalcih:\n",
    "- korelacija: -0.69\n",
    "- p-vrednost: 0,04\n",
    "\n",
    "Pri negospodinjskih odjemalcih pa je situacija malce drugačna, ker korelacija nakazuje na povezanost v negativni smeri, kar pomeni, da z naraščanjem porabe cena za to skupino odjemalcev zmerno pada.\n",
    "\n",
    "Pri nadaljni analizi sva uporabila tudi OLS regresijski model (*Ordinary Least Squared*), zaradi njegove enostavnosti. Ta je vrnil naslednje rezultate.\n",
    "\n",
    "Gospodinjski odjemalci:\n",
    "- R-kvadrat: 0.015\n",
    "- F-statistika: 0.075\n",
    "- p-vrednost: 0.794\n",
    "\n",
    "Na podlagi teh rezultatov lahko sklepamo, da v tem primeru ni statistično pomembnega učinka neodvisne spremenljivke `poraba` na odvisno spremenljivko `cena`. R-kvadrat vrednosti kažejo, da model slabo prilega podatkom. P-vrednost za neodvisno spremenljivko `poraba` je visoka, kar kaže na odsotnost statistične pomembnosti.\n",
    "\n",
    "Negospodinjski odjemalci:\n",
    "- R-kvadrat: 0.485\n",
    "- F-statistika: 6.584\n",
    "- p-vrednost: 0.0372\n",
    "\n",
    "Na podlagi teh rezultatov lahko zaključimo, da obstaja statistično pomemben učinek `poraba` na `cena` in da je model primeren za razlaganje približno 48,5% variabilnosti cene. Vendar je pomembno upoštevati, da so rezultati odvisni od podatkovnega vzorca in predpostavk modela.\n",
    "\n",
    "Skupaj, rezultati analize kažejo, da je poraba elektrike statistično pomemben dejavnik pri pojasnjevanju variabilnosti cene elektrike pri negospodinjskih odjemalcih.\n",
    "\n",
    "Za vizualizacijo rezultatov pa so bile ustvarjene naslednje slike, kjer so podatki narisani v razpršenem grafu, skozi njih pa je prikazan rezultat regresijskega modela, na kar nakazuje črta skoz točke.\n",
    "\n",
    "\n",
    "![image](porocilo_slike/vpliv_porabe_elektrike_na_ceno_gospodinjskih_odjemalcev.png)\n",
    "![image](porocilo_slike/vpliv_porabe_elektrike_na_ceno_negospodinjskih_odjemalcev.png)\n",
    "\n",
    "Iz sledečih rezultatov in vizualizacij lahko sklepamo, da večja kot je poraba, manjša je cena za negospodinjske odjemalce. Posledično sva izpeljava, da večji porabniki dobijo ugodnejše cene.\n",
    "\n",
    "To pa ne velja za gospodinjske odjemalce. Tam ne morava dokazati, da poraba kakorkoli vpliva na njihovo ceno. Za to bi potrebovala več podatkov.\n"
   ],
   "metadata": {
    "collapsed": false
   }
  },
  {
   "cell_type": "markdown",
   "source": [
    "### Ali imajo zasebne mini-elektrarne vpliv na ceno elektrike?\n",
    "\n",
    "Razumevanje vprašanja vpliva zasebnih mini-elektrarn na ceno elektrike nam omogoča boljše upravljanje energetskega sistema (če ugotovimo, da imajo te mini-elektrarne pomemben vpliv na ceno elektrike, lahko bolje razumemo njihov prispevek k proizvodnji in morebitne spremembe na trgu), oblikovanje ustreznih politik (če zasebne mini-elektrarne vplivajo na ceno elektrike, se lahko osredotočimo na spodbujanje in regulacijo njihovega razvoja, kar lahko vpliva na celotno energetsko ravnotežje in trajnostnost sistema) ter spodbujanje trajnostnih energetskih virov (če zasebne mini-elektrarne uporabljajo obnovljive vire za proizvodnjo elektrike, to lahko vpliva na zmanjšanje odvisnosti od fosilnih goriv ter spodbuja trajnostno energetsko prihodnost).\n",
    "\n",
    "#### 1. Uvoz podatkov\n",
    "Tu so podatki prav tako bili predstavljeni z dvema datotekama v CSV obliki, kjer druga datoteka vsebuje zapise o proizvodnji zasebnih mini-elektrarn:\n",
    "- `cena_elektrike.csv`\n",
    "- `poraba_skupaj_brez-transformacij.csv`\n",
    "\n",
    "#### 2. Predprocesiranje\n",
    "Situacija je tu podobna. `dataframe` cen je enak prejšnji nalogi, saj je bila potrebna enaka obdelava.\n",
    "\n",
    "`dataframe` proizvodov je podobno obdelan. Prvo se odstranijo nepotrebne vrstice (v tem primeru prva in nato vsaka tretja, saj tiste ne vključujejo proizvodov mini-elektrarn). Potem je sledila vse pretvorba vnesenih vrednosti v numerične (tu prav tako ni bilo opravka z manjkajočimi in neveljavnimi vrednostmi).\n",
    "\n",
    "V tej točki sta po en par stolpcev nakazovala na isto leto, vendar se je en nanašal na samo-proizvodnjo, drugi pa na proizvod zasebnih hidroelektrarn. Te pare stolpcev je bilo potrebno združiti v en stolpec, ki je predstavljal tisto leto, njune vrednosti pa skupaj sešteti. Po predhodnem procesiranju so podatki zgledali tako:\n",
    "\n",
    "![image](porocilo_slike/proizvodnja_zasebnih_mini-elektrarn.png)\n",
    "\n",
    "Ker cene obsegajo časovno obdobje od 2012 do vključno 2021, je bilo zahtevano podatke od proizvodnji omejiti na enak interval (čeprav sami obsegajo obdobje od 1996 do vključno 2021).\n",
    "\n",
    "Zaključni postopek predprocesiranja je enak. `dataframe`-i se transponirajo in ponovno indeksirajo, da dobijo pravilno obliko. `dataframe` cen se nato razdeli na dva dela, ta dela se pa potem posamično združita z `dataframe`-om proizvodov, pravtako po letih.\n",
    "\n",
    "Končna oblika dveh `dataframe`-ov je enaka prejšnji nalogi, le namesto stolpca `poraba` je tu stolpec `proizvod`.\n",
    "\n",
    "Glede osamelcev pa tukaj sledi podoben postopek. Prvo vizualizacija podatkov, da je razvidno, katere vrednosti preveč izstopajo. Ter po potrebi te vrednosti tudi odstraniti. Po primerjavi, dajejo rezultati analiz boljše rezultate, če podatki ne vsebujejo osamelcev. Naslednje slike predstavljajo podatke, iz katerih se prepoznajo tudi osamelci.\n",
    "\n",
    "![image](porocilo_slike/distribucija_cen_gospodinjskih_odjemalcev.png)\n",
    "![image](porocilo_slike/distribucija_cen_negospodinjskih_odjemalcev.png)\n",
    "![image](porocilo_slike/distribucija_cen_vseh_odjemalcev.png)\n",
    "![image](porocilo_slike/distribucija_porab_skupaj.png)\n",
    "\n",
    "#### 3. Analiza\n",
    "Prva stvar je bila izračun korelacije in p-vrednosti, da dobiva občutek, ali se podatki povezujejo in če se, kako močno ter v katero smer.\n",
    "\n",
    "Rezultati pri gospodinjskih odjemalcih:\n",
    "- korelacija: 0,831\n",
    "- p-vrednost: 0,005\n",
    "\n",
    "Rezultati pri negospodinskih odjemalcih:\n",
    "- korelacija: 0,806\n",
    "- p-vrednost: 0,015\n",
    "\n",
    "Visoka korelacija med spremenljivkama in nizka p-vrednost kažeta na statistično pomembno povezavo med njima. Tako visoka korelacija pomeni, da obstaja močna pozitivna linearna povezava med spremenljivkama. Nizka p-vrednost pa pomeni, da je zelo majhna verjetnost, da je opažena povezava med spremenljivkama posledica naključja. Na podlagi teh rezultatov lahko sklepamo, da obstaja statistično pomemben vpliv spremenljivke na odvisno spremenljivko in da je ta povezava zelo verjetno resnična in ni le rezultat naključja.\n",
    "\n",
    "Za nadaljnjo analizo sva uporabila regresijsko drevo, a so se pri tem modelu rezultati izkazali za slabše v primerjavi z OLS regresijskim modelom. Rezultati tega modela so sledeči:\n",
    "\n",
    "Gospodinjski odjemalci:\n",
    "- R-kvadrat: 0.69\n",
    "- F-statistika: 15.61\n",
    "- p-vrednost: 0.006\n",
    "\n",
    "Negospodinjski odjemalci:\n",
    "- R-kvadrat: 0.649\n",
    "- F-statistika: 11.09\n",
    "- p-vrednost: 0.016\n",
    "\n",
    "Na podlagi teh rezultatov lahko sklepamo, da obstaja statistično pomemben vpliv proizvoda na ceno tako pri gospodinjskih kot tudi negospodinjskih odjemalcih. Vendar je učinek pri gospodinjskih odjemalcih nekoliko močnejši, saj je R-kvadrat vrednost višja.\n",
    "\n",
    "Naslednje slike prikazujejo vrednosti samih podatkov, hkrati pa tudi rezultat linearnega regresijskega modela.\n",
    "\n",
    "![image](porocilo_slike/korelacija_proizvodnje_mini-elektrarn_in_cene_gospodinjski.png)\n",
    "![image](porocilo_slike/korelacija_proizvodnje_mini-elektrarn_in_cene_negospodinjski.png)\n",
    "\n",
    "Ne podlagi predhodnih rezultatov in trenutne vizualizacije lahko povzamemo, da večja kot je cena, več ljudi si želi elektriko proizvajati sami.\n"
   ],
   "metadata": {
    "collapsed": false
   }
  },
  {
   "cell_type": "markdown",
   "source": [
    "### Kakšni so premiki električne industrije v Sloveniji v zeleno smer?\n",
    "\n",
    "Vprašanje glede razumevanje premikov električne industrije v zeleno smer nam omogoča načrtovanje in izvajanje trajnostnih energetskih politik (če obstajajo premiki v smeri zelene električne industrije, lahko ocenimo, kako se Slovenija prilagaja globalnim trendom obnovljive energije ter zmanjšanju emisij toplogrednih plinov), spodbujanje razvoja obnovljivih virov energije (v primeru premikov v smeri obnovljivih virov energije, energetske učinkovitosti in zmanjšanja ogljičnega odtisa, lahko oblikujemo spodbude, subvencije in regulacije, ki spodbujajo nadaljnji razvoj trajnostnih energetskih tehnologij) ter ustvarjanje pozitivnih družbenih, okoljskih in gospodarskih učinkov (zmanjšanje emisij toplogrednih plinov in odvisnosti od fosilnih goriv prispeva k čistejšemu zraku, zmanjšanju onesnaženja in ohranjanju naravnih virov. S tem gradimo bolj trajnostno prihodnost, v kateri se bomo lahko ponašali z bivalnim okoljem, ki je prijazno do nas in prihodnjih generacij). To nam omogoča uresničevanje ciljev trajnostnega razvoja, zmanjševanje emisij toplogrednih plinov ter ustvarjanje boljše prihodnosti za Slovenijo.\n",
    "\n",
    "![image](porocilo_slike/proizvodnja_elektricne_energije_po_tipu_elektrarne.png)\n",
    "\n",
    "Če ponovno pogledamo graf proizvodnje električne energije po tipu elektrarne zlahka opazimo, da hidroelektrarne skozi leta zavzemajo vedno večji delež proizvodnje v Sloveniji. Prav tako se počasi približujejo sončne elektrarne čeprav v zadnjih leti niso pokazale največjih napredkov. Jedrska energija le drži tempo, medtem ko delež termoelektrarn vpada.\n",
    "\n",
    "Premik v zeleno smer torej je, vendar njena hitrost ni nekaj s čimer bi se lahko bahali.\n",
    "\n",
    "V Sloveniji premiki električne industrije v zeleno smer torej so, vendar niso dovolj veliko, da bi se s tem ponašali. Čeprav so prisotni napredki kar se tiče sončne energije in zmanjševanju emisij termoelektrarn, še vedno obstaja prostor za izboljšave. Potrebne so dodatne prizadevanja in ukrepi za pospešitev prehoda k bolj trajnostnemu energetskemu sistemu ter doseganje višjih ciljev glede zelenega razvoja.\n"
   ],
   "metadata": {
    "collapsed": false
   }
  }
 ],
 "metadata": {
  "kernelspec": {
   "display_name": "Python 3",
   "language": "python",
   "name": "python3"
  },
  "language_info": {
   "codemirror_mode": {
    "name": "ipython",
    "version": 2
   },
   "file_extension": ".py",
   "mimetype": "text/x-python",
   "name": "python",
   "nbconvert_exporter": "python",
   "pygments_lexer": "ipython2",
   "version": "2.7.6"
  }
 },
 "nbformat": 4,
 "nbformat_minor": 0
}
