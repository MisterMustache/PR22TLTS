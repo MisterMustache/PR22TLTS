{
 "cells": [
  {
   "cell_type": "markdown",
   "source": [
    "# Električna neodvisnost, sposobnost in dejstva Slovenije\n",
    "### Končno poročilo projektne naloge pri predmetu Podatkovno rudarjenje\n",
    "\n",
    "> Avtorja:\n",
    "> **Tilen Aleksander LEVAK** *(63210187)*\n",
    "> **Tadej SKRBINEK** *(63210298)*\n",
    "\n",
    "> Predavatelj: **izr. prof. dr. Tomaž CURK**\n",
    "> Asistent: **Rok GOMIŠČEK**"
   ],
   "metadata": {
    "collapsed": false
   }
  },
  {
   "cell_type": "markdown",
   "source": [
    "## Opis problema\n",
    "\n",
    "Glavna stvar, ki naju zanima je: kakšen je bil razvoj električne industrije v Sloveniji in v katero pot se nagibajo trendi proizvodnje, cen, porabe, razvoja ipd. Iz vidika navadnega prebivalca, je Slovenija zmeraj bila zelo \"električno premožna\" država. Od Jugoslavije, ko so se je zgradila Nuklearna elektrarna Krško in v zgodnjih časih Republike Slovenije z razširitvijo termo- in hidroelektrarn. V bližnji preteklosti pa je tudi naraslo število sončnih elektrarn – gospodarskih in negospodarskih, ter se zgradila vetrna elektrarna Dolenja vas. Energetskih načrtov za proizvodnjo elektrike v Sloveniji je še zmeraj veliko.\n",
    "\n",
    "### Cilji\n",
    "\n",
    "Glavno vprašanje sva razdelila na nekaj podvprašanj, na katera bi rada konkretno odgovorila:\n",
    "- Kakšno je razmerje med proizvodnjo in porabo električne energije v Sloveniji?\n",
    "- Kako močno vpliva poraba elektrike na njeno ceno?\n",
    "- Ali imajo zasebne mini-elektrarne vpliv na ceno elektrike?\n",
    "- Kakšni so premiki električne industrije v Sloveniji v zeleno smer?"
   ],
   "metadata": {
    "collapsed": false
   }
  },
  {
   "cell_type": "markdown",
   "source": [
    "## Podatki\n",
    "\n",
    "Podatke, ki jih uporabljava je zbral in objavil Statistični urad Republike Slovenije. Objavljeni so tabelarično v formatu PX. Podatki obsegajo razne vire proizvodnje elektrike, cen, porab, moč elektrarn in drugih podatkov.\n",
    "\n",
    "Ker so podatki originalno v obliki PX datoteke, ki je v namenskih programih zelo pregledna vendar pri procesiranju dokaj neuporabna najprej le te pretvoriva v CSV datoteke, kjer se ohranijo le določeni atributi, ki so zanimivi za določeno raziskavo."
   ],
   "metadata": {
    "collapsed": false
   }
  },
  {
   "cell_type": "markdown",
   "source": [
    "## Analize in rezultati\n",
    "\n",
    "Za lažjo analizo vseh podatkov sva si le te vizualizirala z grafi.\n",
    "\n",
    "Ker le govorimo o električnih dejstvih, kar se tiče Slovenije, je uporabno najprej videti tudi osnovna dejstva kot so poraba, proizvodnja ipd.\n",
    "\n",
    "### Kakšno je razmerje med proizvodnjo in porabo električne energije v Sloveniji?\n",
    "\n",
    "### Kako močno vpliva poraba elektrike na njeno ceno?\n",
    "\n",
    "### Ali imajo zasebne mini-elektrarne vpliv na ceno elektrike?\n",
    "\n",
    "### Kakšni so premiki električne industrije v Sloveniji v zeleno smer?\n",
    "\n"
   ],
   "metadata": {
    "collapsed": false
   }
  }
 ],
 "metadata": {
  "kernelspec": {
   "display_name": "Python 3",
   "language": "python",
   "name": "python3"
  },
  "language_info": {
   "codemirror_mode": {
    "name": "ipython",
    "version": 2
   },
   "file_extension": ".py",
   "mimetype": "text/x-python",
   "name": "python",
   "nbconvert_exporter": "python",
   "pygments_lexer": "ipython2",
   "version": "2.7.6"
  }
 },
 "nbformat": 4,
 "nbformat_minor": 0
}
