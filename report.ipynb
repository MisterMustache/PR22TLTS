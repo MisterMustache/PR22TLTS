{
 "cells": [
  {
   "cell_type": "markdown",
   "source": [
    "# Električna neodvisnost, sposobnost in dejstva Slovenije\n",
    "### Končno poročilo projektne naloge pri predmetu Podatkovno rudarjenje\n",
    "\n",
    "> Avtorja:\n",
    "> **Tilen Aleksander LEVAK** *(63210187)*\n",
    "> **Tadej SKRBINEK** *(63210298)*\n",
    "\n",
    "> Predavatelj: **izr. prof. dr. Tomaž CURK**\n",
    "> Asistent: **Rok GOMIŠČEK**"
   ],
   "metadata": {
    "collapsed": false
   }
  },
  {
   "cell_type": "markdown",
   "source": [
    "## Opis problema"
   ],
   "metadata": {
    "collapsed": false
   }
  },
  {
   "cell_type": "markdown",
   "source": [
    "Lorem"
   ],
   "metadata": {
    "collapsed": false
   }
  },
  {
   "cell_type": "markdown",
   "source": [
    "## Podatki"
   ],
   "metadata": {
    "collapsed": false
   }
  },
  {
   "cell_type": "markdown",
   "source": [
    "Lorem"
   ],
   "metadata": {
    "collapsed": false
   }
  },
  {
   "cell_type": "markdown",
   "source": [
    "## Analize in rezultati"
   ],
   "metadata": {
    "collapsed": false
   }
  },
  {
   "cell_type": "markdown",
   "source": [
    "Lorem"
   ],
   "metadata": {
    "collapsed": false
   }
  }
 ],
 "metadata": {
  "kernelspec": {
   "display_name": "Python 3",
   "language": "python",
   "name": "python3"
  },
  "language_info": {
   "codemirror_mode": {
    "name": "ipython",
    "version": 2
   },
   "file_extension": ".py",
   "mimetype": "text/x-python",
   "name": "python",
   "nbconvert_exporter": "python",
   "pygments_lexer": "ipython2",
   "version": "2.7.6"
  }
 },
 "nbformat": 4,
 "nbformat_minor": 0
}
