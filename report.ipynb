{
 "cells": [
  {
   "cell_type": "markdown",
   "source": [
    "# Električna neodvisnost, sposobnost in dejstva Slovenije\n",
    "### Končno poročilo projektne naloge pri predmetu Podatkovno rudarjenje\n",
    "\n",
    "> Avtorja:\n",
    "> **Tilen Aleksander LEVAK** *(63210187)*\n",
    "> **Tadej SKRBINEK** *(63210298)*\n",
    "\n",
    "> Predavatelj: **izr. prof. dr. Tomaž CURK**\n",
    "> Asistent: **Rok GOMIŠČEK**"
   ],
   "metadata": {
    "collapsed": false
   }
  },
  {
   "cell_type": "markdown",
   "source": [
    "## Opis problema\n",
    "\n",
    "Glavna stvar, ki naju zanima je: kakšen je bil razvoj električne industrije v Sloveniji in v katero pot se nagibajo trendi proizvodnje, cen, porabe, razvoja ipd. Iz vidika navadnega prebivalca, je Slovenija zmeraj bila zelo \"električno premožna\" država. Od Jugoslavije, ko so se je zgradila Nuklearna elektrarna Krško in v zgodnjih časih Republike Slovenije z razširitvijo termo- in hidroelektrarn. V bližnji preteklosti pa je tudi naraslo število sončnih elektrarn – gospodarskih in negospodarskih, ter se zgradila vetrna elektrarna Dolenja vas. Energetskih načrtov za proizvodnjo elektrike v Sloveniji je še zmeraj veliko.\n",
    "\n",
    "### Cilji\n",
    "\n",
    "Glavno vprašanje sva razdelila na nekaj podvprašanj, na katera bi rada konkretno odgovorila:\n",
    "- Kakšno je razmerje med proizvodnjo in porabo električne energije v Sloveniji?\n",
    "- Kako močno vpliva poraba elektrike na njeno ceno?\n",
    "- Ali imajo zasebne mini-elektrarne vpliv na ceno elektrike?\n",
    "- Kakšni so premiki električne industrije v Sloveniji v zeleno smer?"
   ],
   "metadata": {
    "collapsed": false
   }
  },
  {
   "cell_type": "markdown",
   "source": [
    "## Podatki\n",
    "\n",
    "Podatke, ki jih uporabljava je zbral in objavil Statistični urad Republike Slovenije. Objavljeni so tabelarično v formatu PX. Podatki obsegajo razne vire proizvodnje elektrike, cen, porab, moč elektrarn in drugih podatkov.\n",
    "\n",
    "Ker so podatki originalno v obliki PX datoteke, ki je v namenskih programih zelo pregledna vendar pri procesiranju dokaj neuporabna najprej le te pretvoriva v CSV datoteke, kjer se ohranijo le določeni atributi, ki so zanimivi za določeno raziskavo."
   ],
   "metadata": {
    "collapsed": false
   }
  },
  {
   "cell_type": "markdown",
   "source": [
    "## Analize in rezultati\n",
    "\n",
    "Preden se lahko lotiva raziskave in analize, je izjemno pomembno, da pridobiva temeljno znanje o tej domeni ter informacije, povezane z njo. Obstaja več razlogov, zakaj je to pomembno.\n",
    "\n",
    "Prvič, poznavanje tematske domene nam omogoča razumevanje konteksta, v katerem se nahajajo podatki. Razumevanje električne neodvisnosti, sposobnosti in dejstev Slovenije nam pomaga interpretirati podatke na pravi način ter razumeti njihov pomen in implikacije. Znanje o električni proizvodnji, porabi, virih energije ter energetski stabilnosti države nam omogoča postaviti prava vprašanja, opredeliti ključne spremenljivke in raziskati pomembne povezave med njimi.\n",
    "\n",
    "Drugič, predhodno raziskovanje tematske domene nam omogoča prepoznati morebitne vrzeli v obstoječem znanju in identificirati področja, ki potrebujejo dodatno analizo. S tem lahko izboljšamo kakovost naše raziskave ter prispevamo k celostnemu razumevanju problema.\n",
    "\n",
    "Poleg tega nam poznavanje tematske domene omogoča tudi izbiro ustreznih metod in orodij za analizo podatkov. Glede na specifično področje električne neodvisnosti Slovenije bomo lahko izbrali primerne statistične metode, modeliranje ali uporabo strojnega učenja za raziskovanje podatkov.\n",
    "\n",
    "Za lažjo predstavo vseh podatkov sva si le te vizualizirala z grafi.\n",
    "\n",
    "Ker le govorimo o električnih dejstvih, kar se tiče Slovenije, je uporabno najprej videti tudi osnovna dejstva kot so poraba, proizvodnja ipd."
   ],
   "metadata": {
    "collapsed": false
   }
  },
  {
   "cell_type": "markdown",
   "source": [
    "#### 1. Poraba električne energije nasploh.\n",
    "\n",
    "![elektricna_poraba_skupaj.png](porocilo_slike%2Felektricna_poraba_skupaj.png)\n",
    "\n",
    "Ker pa to ne pove ravno veliko je možno to malce razdeliti na več kategorij:\n",
    "\n",
    "![elektricna_poraba_po_dejavnosti.png](porocilo_slike%2Felektricna_poraba_po_dejavnosti.png)\n",
    "\n",
    "Iz 1. grafa se zelo dobro vidijo posledice finančne krize 2009, kjer je poraba električne energije drastično nižja od trenda.\n",
    "\n",
    "Iz 2. grafa se vidi več stvari:\n",
    "\n",
    "Gradbeniške dejavnosti so zmanjševale porabo vse do 2014 ter nato zelo močno povišale porabo vse do pandemije koronavirusa, kjer se je velik del globalne ekonomije upočasnil ali celo ustavil in s tem tudi poraba električne energije. 2021 pa je spet tako narasla, da se zlahka lahko predvidi to, da so poizkušali nadoknaditi neopravljeno delo preteklega leta.\n",
    "\n",
    "Za razliko od gradbeništva pa rudarstvo in predelovalne dejavnosti sledijo trendu zmernega naraščanja.\n",
    "\n",
    "---\n",
    "\n",
    "#### 2. Proizvodnja električne energije\n",
    "\n",
    "![proizvodnja_elektricne_energije_po_tipu_elektrarne.png](porocilo_slike%2Fproizvodnja_elektricne_energije_po_tipu_elektrarne.png)\n",
    "\n",
    "Iz grafa se vidi, da sta bila v zgodnjih 2000ih glavna proizvajalca NEK in termo elektrarne, medtem ko so blizu sledile hidroelektrarne, ki so se uspešno približale termoelektrarnam in jih navsezadnje le prehitele medtem, ko so le te začele zgubljati delež.\n",
    "\n",
    "NEK ima zelo konstanten in redko deviiran ritem.\n",
    "\n",
    "---\n",
    "\n",
    "#### 3. Cena električne energije za gospodnijske/negospodinjske odjemalce:\n",
    "\n",
    "![cena_elektrike_ne-gospodinjske_skupaj.png](porocilo_slike%2Fcena_elektrike_ne-gospodinjske_skupaj.png)\n",
    "\n",
    "Opazimo lahko, da je bila cena električne energije za gospodinjske odjemalce v povprečju konsistentno dražja od negospodinjskih.\n",
    "\n",
    "Nato sledijo zanimive opazke:\n",
    "- ob začetku razglasitve koronavirusa se je cena za gospodinjske uporabnike znižala vendar se je kmalu v okolici šestih mesecev ponovno zvišala nazaj na skoraj prejšnjo (a malce višjo).\n",
    "- Ob eskalaciji konflikta med Rusijo in Ukrajino se je cena začela rahlo višati in ob samem začetku konflikta strmo izbruhnila. Za negospodinjske uporabnike je ta vzpon pomenil tudi do 200% zvišanje cene, ki je povzročilo, energetsko krizo ne samo v Sloveniji temveč celotni Evropski uniji.\n",
    "\n",
    "#### 4. Cena električne energije gospodinjskih odjemalcev po porabi\n",
    "\n",
    "![cena_elektrike_gospodinjskih_odjemalcev_po_doloceni_porabi.png](porocilo_slike%2Fcena_elektrike_gospodinjskih_odjemalcev_po_doloceni_porabi.png)\n",
    "\n",
    "Na hiter pogled nima graf prav ogromno koristnih informacij saj za vse odjemalce veljajo podobni vzponi in padci z malo variacije. Vendar se razločno vidi, da cena za nižje porabnike niha **silno močneje** kot za višje porabnike.\n",
    "\n",
    "---\n"
   ],
   "metadata": {
    "collapsed": false
   }
  },
  {
   "cell_type": "markdown",
   "source": [
    "## Cilji in vprašanja\n",
    "\n",
    "Izbira zadostnih in razumnih ciljev ter vprašanj, na katera želiva odgovoriti, je izjemno pomembna in upravičena iz več razlogov.\n",
    "\n",
    "Jasno opredeljeni cilji nam pomagajo se osredotočiti na bistvo problema in določiti obseg neke raziskave. Z jasnimi cilji postanejo naloge in vprašanja usmerjena ter zagotavljajo smernice za učinkovito zbiranje, analizo in interpretacijo podatkov. Dobro postavljena vprašanja nam prav tako omogočajo usmerjanje naše raziskave in osredotočanje na ključne vidike problema. Z natančno oblikovanimi vprašanji lahko raziskujemo specifične elemente električne neodvisnosti Slovenije. Poleg tega nam cilji in vprašanja pomagajo doseči konkreten namen neke raziskave. Lahko nas usmerjajo pri iskanju rešitev za obstoječe izzive, poglobljeno razumevanje določenih vidikov ali identifikacijo možnosti za izboljšanje.\n",
    "\n",
    "Pri projektu sva si zastavila 4 vprašanja na katera bi rada odgovorila."
   ],
   "metadata": {
    "collapsed": false
   }
  },
  {
   "cell_type": "markdown",
   "source": [
    "### Kakšno je razmerje med proizvodnjo in porabo električne energije v Sloveniji?\n",
    "\n",
    "Odgovor na to vprašanje nam omogoča celovit vpogled v stanje in razmerje med proizvodnjo in porabo električne energije v Sloveniji. S tem se lahko sprejemajo bolj informirane odločitve in oblikujejo ukrepi za izboljšanje energetske učinkovitosti (če ugotovimo, da je poraba previsoka v primerjavi s proizvodnjo, lahko prepoznamo potrebo po povečanju zmogljivosti proizvodnje ali izboljšanju energetske učinkovitosti za zmanjšanje porabe), povečanje proizvodnje obnovljivih virov energije ter doseganje večje električne neodvisnosti države (ali je proizvodnja zadostna za pokrivanje potreb prebivalstva in gospodarstva ter ali obstajajo morebitne vrzeli med proizvodnjo in porabo).\n",
    "\n",
    "![](porocilo_slike/razmerje_med_proizvodnjo_po_tipu_elektrarne_in_porabo_elektrike.png)\n",
    "\n",
    "![](porocilo_slike/razmerje_med_skupno_proizvodnjo_in_porabo_elektrike.png)\n",
    "\n",
    "Dejstvo je, da je razmerje med proizvodnjo in porabo električne energije v Sloveniji znatno večje kot zahtevana količina.\n",
    "\n",
    "To pomeni, da Slovenija presega svoje potrebe po električni energiji in ima presežek proizvodnje. Ta presežek je izjemno koristen, saj omogoča energetsko neodvisnost, zmanjšuje potrebo po uvozu električne energije ter ustvarja priložnosti za izvoz energije.\n",
    "\n",
    "Poleg tega ima to pozitiven vpliv na gospodarstvo, saj se ustvarjajo delovna mesta v sektorjih proizvodnje, distribucije in izvoza električne energije. Prispeva tudi k razvoju trajnostnih energetskih tehnologij ter spodbuja inovacije na področju obnovljivih virov energije.\n",
    "\n",
    "Iz prvega grafa se prav tako da razbrati, da se razmerje med porabo in proizvodnjo za določen tip elektrarne manjša vendar še vedno lahko le en močan tip elektrarne (kot je jedrska in hidro) skoraj zadovolji potrebe v Sloveniji."
   ],
   "metadata": {
    "collapsed": false
   }
  },
  {
   "cell_type": "markdown",
   "source": [
    "### Kako močno vpliva poraba elektrike na njeno ceno?\n",
    "\n",
    "Razumevanje vprašanja glede vpliva porabe elektrike na njeno ceno nam omogoča boljše upravljanje naših energetskih izdatkov (če ugotovimo, da je poraba električne energije pomemben dejavnik, ki vpliva na ceno, se lahko osredotočimo na ukrepe za zmanjšanje porabe ter tako optimiziramo stroške električne energije), boljše razumevanje mehanizmov oblikovanja cen (lahko ugotovimo, ali ceno določajo predvsem stroški proizvodnje, distribucije ali pa je pomembno tudi povpraševanje in poraba elektrike. S tem znanjem lahko sprejemamo bolj informirane odločitve glede energetskega načrtovanja in prilagajanja porabe električne energije.) in sprejemanje bolj informiranih odločitev v zvezi z našo porabo električne energije (če je poraba ključni dejavnik, ki vpliva na ceno, se lahko zavedamo, da bo večje povpraševanje lahko povzročilo dvig cen, medtem ko zmanjšanje porabe lahko vodi v nižje cene električne energije). VSe to nam omogoča optimizacijo stroškov in bolj trajnostno uporabo električne energije.\n",
    "\n",
    "![](porocilo_slike/vpliv_porabe_elektrike_na_ceno_gospodinjskih_odjemalcev.png)\n",
    "![](porocilo_slike/vpliv_porabe_elektrike_na_ceno_negospodinjskih_odjemalcev.png)\n",
    "\n"
   ],
   "metadata": {
    "collapsed": false
   }
  },
  {
   "cell_type": "markdown",
   "source": [
    "### Ali imajo zasebne mini-elektrarne vpliv na ceno elektrike?\n",
    "\n",
    "Razumevanje vprašanja vpliva zasebnih mini-elektrarn na ceno elektrike nam omogoča boljše upravljanje energetskega sistema (če ugotovimo, da imajo te mini-elektrarne pomemben vpliv na ceno elektrike, lahko bolje razumemo njihov prispevek k proizvodnji in morebitne spremembe na trgu), oblikovanje ustreznih politik (če zasebne mini-elektrarne vplivajo na ceno elektrike, se lahko osredotočimo na spodbujanje in regulacijo njihovega razvoja, kar lahko vpliva na celotno energetsko ravnotežje in trajnostnost sistema) ter spodbujanje trajnostnih energetskih virov (če zasebne mini-elektrarne uporabljajo obnovljive vire za proizvodnjo elektrike, to lahko vpliva na zmanjšanje odvisnosti od fosilnih goriv ter spodbuja trajnostno energetsko prihodnost).\n",
    "\n",
    "![](porocilo_slike/korelacija_proizvodnje_mini-elektrarn_in_cene_gospodinjski.png)\n",
    "![](porocilo_slike/korelacija_proizvodnje_mini-elektrarn_in_cene_negospodinjski.png)\n",
    "\n",
    "![](porocilo_slike/distribucija_cen_gospodinjskih_odjemalcev.png)\n",
    "![](porocilo_slike/distribucija_cen_negospodinjskih_odjemalcev.png)\n",
    "![](porocilo_slike/distribucija_cen_vseh_odjemalcev.png)\n",
    "![](porocilo_slike/distribucija_porab_skupaj.png)\n",
    "\n",
    "![](porocilo_slike/proizvodnja_zasebnih_mini-elektrarn.png)\n"
   ],
   "metadata": {
    "collapsed": false
   }
  },
  {
   "cell_type": "markdown",
   "source": [
    "### Kakšni so premiki električne industrije v Sloveniji v zeleno smer?\n",
    "\n",
    "Vprašanje glede razumevanje premikov električne industrije v zeleno smer nam omogoča načrtovanje in izvajanje trajnostnih energetskih politik (če obstajajo premiki v smeri zelene električne industrije, lahko ocenimo, kako se Slovenija prilagaja globalnim trendom obnovljive energije ter zmanjšanju emisij toplogrednih plinov), spodbujanje razvoja obnovljivih virov energije (v primeru premikov v smeri obnovljivih virov energije, energetske učinkovitosti in zmanjšanja ogljičnega odtisa, lahko oblikujemo spodbude, subvencije in regulacije, ki spodbujajo nadaljnji razvoj trajnostnih energetskih tehnologij) ter ustvarjanje pozitivnih družbenih, okoljskih in gospodarskih učinkov (zmanjšanje emisij toplogrednih plinov in odvisnosti od fosilnih goriv prispeva k čistejšemu zraku, zmanjšanju onesnaženja in ohranjanju naravnih virov. S tem gradimo bolj trajnostno prihodnost, v kateri se bomo lahko ponašali z bivalnim okoljem, ki je prijazno do nas in prihodnjih generacij). To nam omogoča uresničevanje ciljev trajnostnega razvoja, zmanjševanje emisij toplogrednih plinov ter ustvarjanje boljše prihodnosti za Slovenijo.\n",
    "\n",
    "![](porocilo_slike/proizvodnja_elektricne_energije_po_tipu_elektrarne.png)\n",
    "\n",
    "Če ponovno pogledamo graf proizvodnje električne energije po tipu elektrarne zlahka opazimo, da hidroelektrarne skozi leta zavzemajo vedno večji delež proizvodnje v Sloveniji. Prav tako se počasi približujejo sončne elektrarne čeprav v zadnjih leti niso pokazale največjih napredkov. Jedrska energija le drži tempo, medtem ko delež termoelektrarn vpada.\n",
    "\n",
    "Premik v zeleno smer torej je, vendar njena hitrost ni nekaj s čimer bi se lahko bahali.\n"
   ],
   "metadata": {
    "collapsed": false
   }
  }
 ],
 "metadata": {
  "kernelspec": {
   "display_name": "Python 3",
   "language": "python",
   "name": "python3"
  },
  "language_info": {
   "codemirror_mode": {
    "name": "ipython",
    "version": 2
   },
   "file_extension": ".py",
   "mimetype": "text/x-python",
   "name": "python",
   "nbconvert_exporter": "python",
   "pygments_lexer": "ipython2",
   "version": "2.7.6"
  }
 },
 "nbformat": 4,
 "nbformat_minor": 0
}
